{
 "metadata": {
  "name": ""
 },
 "nbformat": 3,
 "nbformat_minor": 0,
 "worksheets": [
  {
   "cells": [
    {
     "cell_type": "heading",
     "level": 1,
     "metadata": {},
     "source": [
      "TickleMeNAO idea development"
     ]
    },
    {
     "cell_type": "code",
     "collapsed": false,
     "input": [
      "# Imports\n",
      "import numpy as np"
     ],
     "language": "python",
     "metadata": {},
     "outputs": [],
     "prompt_number": 3
    },
    {
     "cell_type": "heading",
     "level": 2,
     "metadata": {},
     "source": [
      "Basic Markov Chain code"
     ]
    },
    {
     "cell_type": "code",
     "collapsed": false,
     "input": [
      "\"\"\" Get a simple Markov Chain transition matrix working and print out.\n",
      "\n",
      "\"\"\"\n",
      "\n",
      "# State info\n",
      "currentState = 0\n",
      "stateDictionary = {0 : 'stand still',\n",
      "                   1 : 'wave left arm',\n",
      "                   2 : 'wave right arm'\n",
      "                   }\n",
      "\n",
      "# Numpy matrix\n",
      "transitionMatrix = np.array([[0.33, 0.33, 0.34],\n",
      "                            [0.2, 0.4, 0.4],\n",
      "                            [0.05, 0.05, 0.9]]\n",
      "                            )\n",
      "\n",
      "for i in range(0, 5):\n",
      "    # Generate random number\n",
      "    randomNum = np.random.random()\n",
      "    # Accumulate the relevant line of the transition matrix\n",
      "    # Using numpy:\n",
      "    # currentStateTransitionProbabilities = np.cumsum(transitionMatrix[currentState])\n",
      "    # Using list comprehension:\n",
      "    currentStateTransitionProbabilities = [(sum(transitionMatrix[currentState][:i])) for i in range(1, len(transitionMatrix[currentState]) + 1)]\n",
      "    # Find the new current state by comparing randomNum to the accululated matrix\n",
      "    # todo: there must be a cleaner way to do this comparison, a is my original attempt\n",
      "    a = len([i for i in range(0, len(currentStateTransitionProbabilities)) if randomNum >= currentStateTransitionProbabilities[i]])\n",
      "    print \"a: \", a\n",
      "    # Rewrite using enumerate\n",
      "    b = len([index for index, probability in enumerate(currentStateTransitionProbabilities) if probability <= randomNum])\n",
      "    print \"b: \", b\n",
      "    # From http://www.petercollingridge.co.uk/book/export/html/362\n",
      "    c = sum([(0, 1)[probability <= randomNum] for probability in currentStateTransitionProbabilities])\n",
      "    print \"c: \", c\n",
      "    # From https://stackoverflow.com/questions/9572833/break-list-comprehension\n",
      "    def end_of_loop():\n",
      "        raise StopIteration\n",
      "    # Breaking out a list comprehension, not sure how different from using if, from https://stackoverflow.com/questions/9572833/break-list-comprehension\n",
      "    d = list(end_of_loop() if probability >= randomNum else index for index, probability in enumerate(currentStateTransitionProbabilities))\n",
      "    print \"d: \", d\n",
      "    # Readable code!\n",
      "    for index, probability in enumerate(currentStateTransitionProbabilities):\n",
      "        if probability <= randomNum:\n",
      "            e = index + 1\n",
      "        else:\n",
      "            break\n",
      "    print \"e: \", e\n",
      "    f = [index + 1 for index, probability in enumerate(currentStateTransitionProbabilities) if probability <= randomNum][-1:]\n",
      "    print \"f: \", f\n",
      "    \n",
      "    # Choose a method.\n",
      "    currentState = a\n",
      "    print \"randomNum: \", randomNum\n",
      "    print \"currentStateTransitionProbabilities: \", currentStateTransitionProbabilities\n",
      "    print \"So the new current state is: \", currentState\n",
      "    print \"Do: \", stateDictionary[currentState]\n",
      "    print"
     ],
     "language": "python",
     "metadata": {},
     "outputs": [
      {
       "output_type": "stream",
       "stream": "stdout",
       "text": [
        "a:  2\n",
        "b:  2\n",
        "c:  2\n",
        "d:  [0, 1]\n",
        "e:  2\n",
        "f:  [2]\n",
        "randomNum:  0.763483388802\n",
        "currentStateTransitionProbabilities:  [0.33000000000000002, 0.66000000000000003, 1.0]\n",
        "So the new current state is:  2\n",
        "Do:  wave right arm\n",
        "\n",
        "a:  2\n",
        "b:  2\n",
        "c:  2\n",
        "d:  [0, 1]\n",
        "e:  2\n",
        "f:  [2]\n",
        "randomNum:  0.52784493206\n",
        "currentStateTransitionProbabilities:  [0.050000000000000003, 0.10000000000000001, 1.0]\n",
        "So the new current state is:  2\n",
        "Do:  wave right arm\n",
        "\n",
        "a:  2\n",
        "b:  2\n",
        "c:  2\n",
        "d:  [0, 1]\n",
        "e:  2\n",
        "f:  [2]\n",
        "randomNum:  0.315782876269\n",
        "currentStateTransitionProbabilities:  [0.050000000000000003, 0.10000000000000001, 1.0]\n",
        "So the new current state is:  2\n",
        "Do:  wave right arm\n",
        "\n",
        "a:  2\n",
        "b:  2\n",
        "c:  2\n",
        "d:  [0, 1]\n",
        "e:  2\n",
        "f:  [2]\n",
        "randomNum:  0.878921171047\n",
        "currentStateTransitionProbabilities:  [0.050000000000000003, 0.10000000000000001, 1.0]\n",
        "So the new current state is:  2\n",
        "Do:  wave right arm\n",
        "\n",
        "a:  1\n",
        "b:  1\n",
        "c:  1\n",
        "d:  [0]\n",
        "e:  1\n",
        "f:  [1]\n",
        "randomNum:  0.0598463245614\n",
        "currentStateTransitionProbabilities:  [0.050000000000000003, 0.10000000000000001, 1.0]\n",
        "So the new current state is:  1\n",
        "Do:  wave left arm\n",
        "\n"
       ]
      }
     ],
     "prompt_number": 1
    },
    {
     "cell_type": "code",
     "collapsed": false,
     "input": [
      "#markov laughing, from Jonny\n",
      "\n",
      "#markov p martix all rows sum to 1\n",
      "decision = np.array([[0.2,0.3,0.5],\n",
      "                     [0.3,0.4,0.3],\n",
      "                     [0.8,0.1,0.1]])\n",
      "#laugh states\n",
      "event = [\"hee\",\"haa\",\"hoo\"]\n",
      "\n",
      "#number of laughs\n",
      "for i in range(3):\n",
      "    lastMove = 0\n",
      "    #length of laugh\n",
      "    for j in range(3):\n",
      "        #make a weighed random choice\n",
      "        lastMove = np.random.choice(3, p=decision[lastMove])\n",
      "        print lastMove,\n",
      "        print event[lastMove],\n",
      "    print \"\\n\"\n"
     ],
     "language": "python",
     "metadata": {},
     "outputs": [
      {
       "output_type": "stream",
       "stream": "stdout",
       "text": [
        "2 hoo 0 hee 1 haa \n",
        "\n",
        "2 hoo 0 hee 2 hoo \n",
        "\n",
        "2 hoo 0 hee 2 hoo \n",
        "\n"
       ]
      }
     ],
     "prompt_number": 45
    },
    {
     "cell_type": "code",
     "collapsed": false,
     "input": [
      "\"\"\" Get a simple Markov Chain transition matrix working and print out.\n",
      "    Using pure numpy, no cumulative matrix, idea from Jonny,\n",
      "\"\"\"\n",
      "\n",
      "# State info\n",
      "currentState = 0\n",
      "stateDictionary = {0 : 'stand still',\n",
      "                   1 : 'wave left arm',\n",
      "                   2 : 'wave right arm'\n",
      "                   }\n",
      "\n",
      "# Numpy matrix\n",
      "transitionMatrix = np.array([[0.33, 0.33, 0.34],\n",
      "                            [0.2, 0.4, 0.4],\n",
      "                            [0.1, 0.1, 0.8]])\n",
      "\n",
      "testLoops = 10\n",
      "numberElementsPerAction = 2\n",
      "arraySize = len(transitionMatrix[currentState])\n",
      "lastState = 0\n",
      "# Here run a number of test loops.\n",
      "# In robot this will be a global (robot) state change ie\n",
      "# the transition matrix will be changed after an 'action' is\n",
      "# complete e.g. going from robot waiting to be tickled state\n",
      "# to robot being tickled state.\n",
      "for i in range(testLoops):\n",
      "    for j in range(numberElementsPerAction):\n",
      "        lastState = np.random.choice(arraySize, p = transitionMatrix[lastState])\n",
      "        print \"lastState: %s \" % lastState,\n",
      "        print \"Do: \", stateDictionary[lastState],\n",
      "    print \"\\n\"\n",
      "      \n",
      "    "
     ],
     "language": "python",
     "metadata": {},
     "outputs": [
      {
       "output_type": "stream",
       "stream": "stdout",
       "text": [
        "lastState: 0  Do:  stand still lastState: 2  Do:  wave right arm \n",
        "\n",
        "lastState: 2  Do:  wave right arm lastState: 1  Do:  wave left arm \n",
        "\n",
        "lastState: 2  Do:  wave right arm lastState: 2  Do:  wave right arm \n",
        "\n",
        "lastState: 2  Do:  wave right arm lastState: 2  Do:  wave right arm \n",
        "\n",
        "lastState: 2  Do:  wave right arm lastState: 2  Do:  wave right arm \n",
        "\n",
        "lastState: 2  Do:  wave right arm lastState: 2  Do:  wave right arm \n",
        "\n",
        "lastState: 2  Do:  wave right arm lastState: 2  Do:  wave right arm \n",
        "\n",
        "lastState: 1  Do:  wave left arm lastState: 0  Do:  stand still \n",
        "\n",
        "lastState: 1  Do:  wave left arm lastState: 2  Do:  wave right arm \n",
        "\n",
        "lastState: 2  Do:  wave right arm lastState: 2  Do:  wave right arm \n",
        "\n"
       ]
      }
     ],
     "prompt_number": 8
    },
    {
     "cell_type": "code",
     "collapsed": false,
     "input": [
      "\"\"\" Build the Markov Chain transition matrix as an object.\n",
      "\n",
      "\"\"\"\n",
      "\n"
     ],
     "language": "python",
     "metadata": {},
     "outputs": [
      {
       "metadata": {},
       "output_type": "pyout",
       "prompt_number": 27,
       "text": [
        "' Build the Markov Chain transition matrix as an object.\\n\\n'"
       ]
      }
     ],
     "prompt_number": 27
    }
   ],
   "metadata": {}
  }
 ]
}