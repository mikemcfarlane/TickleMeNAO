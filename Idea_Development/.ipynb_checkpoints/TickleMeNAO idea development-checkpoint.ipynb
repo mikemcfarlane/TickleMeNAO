{
 "metadata": {
  "name": ""
 },
 "nbformat": 3,
 "nbformat_minor": 0,
 "worksheets": [
  {
   "cells": [
    {
     "cell_type": "heading",
     "level": 1,
     "metadata": {},
     "source": [
      "TickleMeNAO idea development"
     ]
    },
    {
     "cell_type": "code",
     "collapsed": false,
     "input": [
      "# Imports\n",
      "import numpy as np"
     ],
     "language": "python",
     "metadata": {},
     "outputs": [],
     "prompt_number": 1
    },
    {
     "cell_type": "heading",
     "level": 2,
     "metadata": {},
     "source": [
      "Basic Markov Chain code"
     ]
    },
    {
     "cell_type": "code",
     "collapsed": false,
     "input": [
      "\"\"\" Get a simple Markov Chain transition matrix working and print out.\n",
      "\n",
      "\"\"\"\n",
      "\n",
      "# State info\n",
      "currentState = 0\n",
      "stateDictionary = {0 : 'stand still',\n",
      "                   1 : 'wave left arm',\n",
      "                   2 : 'wave right arm'\n",
      "                   }\n",
      "\n",
      "# Numpy matrix\n",
      "transitionMatrix = np.array([[0.33, 0.33, 0.34],\n",
      "                            [0.2, 0.4, 0.4],\n",
      "                            [0.05, 0.05, 0.9]]\n",
      "                            )\n",
      "\n",
      "for i in range(0, 10):\n",
      "    # Generate random number\n",
      "    randomNum = np.random.random()\n",
      "    # Normalise the relevant line of the transition matrix\n",
      "    # Using numpy:\n",
      "    # currentStateTransitionProbabilities = np.cumsum(transitionMatrix[currentState])\n",
      "    # Using list comprehension:\n",
      "    currentStateTransitionProbabilities = [(sum(transitionMatrix[currentState][:i])) for i in range(1, len(transitionMatrix[currentState]) + 1)]\n",
      "    # Find the new current state by comparing randomNum to the normalised matrix\n",
      "    # todo: there must be a cleaner way to do this comparison\n",
      "    currentState = len([i for i in range(0, len(currentStateTransitionProbabilities)) if randomNum >= currentStateTransitionProbabilities[i]])\n",
      "    print \"randomNum: \", randomNum\n",
      "    print \"currentStateTransitionProbabilities: \", currentStateTransitionProbabilities\n",
      "    print \"So the new current state is: \", currentState\n",
      "    print \"Do: \", stateDictionary[currentState]\n",
      "    print"
     ],
     "language": "python",
     "metadata": {},
     "outputs": [
      {
       "output_type": "stream",
       "stream": "stdout",
       "text": [
        "randomNum:  0.740580846666\n",
        "currentStateTransitionProbabilities:  [0.33000000000000002, 0.66000000000000003, 1.0]\n",
        "So the new current state is:  2\n",
        "Do:  wave right arm\n",
        "\n",
        "randomNum:  0.359115296395\n",
        "currentStateTransitionProbabilities:  [0.050000000000000003, 0.10000000000000001, 1.0]\n",
        "So the new current state is:  2\n",
        "Do:  wave right arm\n",
        "\n",
        "randomNum:  0.0909530307468\n",
        "currentStateTransitionProbabilities:  [0.050000000000000003, 0.10000000000000001, 1.0]\n",
        "So the new current state is:  1\n",
        "Do:  wave left arm\n",
        "\n",
        "randomNum:  0.32429406895\n",
        "currentStateTransitionProbabilities:  [0.20000000000000001, 0.60000000000000009, 1.0]\n",
        "So the new current state is:  1\n",
        "Do:  wave left arm\n",
        "\n",
        "randomNum:  0.727587978152\n",
        "currentStateTransitionProbabilities:  [0.20000000000000001, 0.60000000000000009, 1.0]\n",
        "So the new current state is:  2\n",
        "Do:  wave right arm\n",
        "\n",
        "randomNum:  0.868861377913\n",
        "currentStateTransitionProbabilities:  [0.050000000000000003, 0.10000000000000001, 1.0]\n",
        "So the new current state is:  2\n",
        "Do:  wave right arm\n",
        "\n",
        "randomNum:  0.318665958707\n",
        "currentStateTransitionProbabilities:  [0.050000000000000003, 0.10000000000000001, 1.0]\n",
        "So the new current state is:  2\n",
        "Do:  wave right arm\n",
        "\n",
        "randomNum:  0.593309076367\n",
        "currentStateTransitionProbabilities:  [0.050000000000000003, 0.10000000000000001, 1.0]\n",
        "So the new current state is:  2\n",
        "Do:  wave right arm\n",
        "\n",
        "randomNum:  0.0423185532443\n",
        "currentStateTransitionProbabilities:  [0.050000000000000003, 0.10000000000000001, 1.0]\n",
        "So the new current state is:  0\n",
        "Do:  stand still\n",
        "\n",
        "randomNum:  0.669564820974\n",
        "currentStateTransitionProbabilities:  [0.33000000000000002, 0.66000000000000003, 1.0]\n",
        "So the new current state is:  2\n",
        "Do:  wave right arm\n",
        "\n"
       ]
      }
     ],
     "prompt_number": 18
    },
    {
     "cell_type": "code",
     "collapsed": false,
     "input": [
      "\"\"\" Build the Markov Chain transition matrix as an object.\n",
      "\n",
      "\"\"\"\n",
      "\n"
     ],
     "language": "python",
     "metadata": {},
     "outputs": []
    }
   ],
   "metadata": {}
  }
 ]
}