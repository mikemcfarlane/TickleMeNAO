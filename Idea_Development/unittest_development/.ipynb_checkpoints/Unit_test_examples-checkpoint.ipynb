{
 "metadata": {
  "name": ""
 },
 "nbformat": 3,
 "nbformat_minor": 0,
 "worksheets": [
  {
   "cells": [
    {
     "cell_type": "heading",
     "level": 1,
     "metadata": {},
     "source": [
      "Exploring Python nosetests and unittests for a simple Markov transition function"
     ]
    },
    {
     "cell_type": "code",
     "collapsed": false,
     "input": [
      "%%file choice.py\n",
      "# -*- coding: ascii -*-\n",
      "\"\"\" Exploring unit tests.\n",
      "    Simple code to implement a simple Markov transition function.\n",
      "    \n",
      "\"\"\"\n",
      "__author__ = \"Mike McFarlane (mike@mikemcfarlane.co.uk)\"\n",
      "__version__ = \"$Revision: 0 $\"\n",
      "__date__ = \"$Date: 11-04-14\"\n",
      "__copyright__ =  \"Copyright (c) Mike McFarlane 2014\"\n",
      "__license__ = \"TBC\"\n",
      "\n",
      "import random\n",
      "import numpy as np\n",
      "import custom_exceptions as ce\n",
      "\n",
      "def choice2(inArray):\n",
      "    \"\"\" Simple function to implement a Markov transition function.\n",
      "\n",
      "    \"\"\"\n",
      "    randNum = np.random.random()\n",
      "    cum = 0\n",
      "    sumVal = np.sum(inArray)\n",
      "    if not abs(sumVal - 1.0) < 1e-10:\n",
      "        #print \"not a P array\"\n",
      "        raise ce.MatrixError(\"Not a valid array\")\n",
      "    else:\n",
      "        for count, i in enumerate(inArray):\n",
      "            cum += i\n",
      "            if cum >= randNum:\n",
      "                return count\n",
      "            \n",
      "if __name__ == '__main__':\n",
      "    print choice2([1])\n"
     ],
     "language": "python",
     "metadata": {},
     "outputs": [
      {
       "output_type": "stream",
       "stream": "stdout",
       "text": [
        "Overwriting choice.py\n"
       ]
      }
     ],
     "prompt_number": 220
    },
    {
     "cell_type": "code",
     "collapsed": false,
     "input": [
      "%%file custom_exceptions.py\n",
      "# -*- coding: ascii -*-\n",
      "\"\"\" Exploring unit tests.\n",
      "    Custom exceptions classes for choice.py. \n",
      "\n",
      "\"\"\"\n",
      "__author__ = \"Mike McFarlane (mike@mikemcfarlane.co.uk)\"\n",
      "__version__ = \"$Revision: 0 $\"\n",
      "__date__ = \"$Date: 11-04-14\"\n",
      "__copyright__ =  \"Copyright (c) Mike McFarlane 2014\"\n",
      "__license__ = \"TBC\"\n",
      "\n",
      "\n",
      "class MatrixError(Exception):\n",
      "    \"\"\" Raised when wrong matrix error. \n",
      "    \n",
      "    \"\"\"\n",
      "    pass"
     ],
     "language": "python",
     "metadata": {},
     "outputs": [
      {
       "output_type": "stream",
       "stream": "stdout",
       "text": [
        "Overwriting custom_exceptions.py\n"
       ]
      }
     ],
     "prompt_number": 221
    },
    {
     "cell_type": "code",
     "collapsed": false,
     "input": [
      "%%file choicetest_nosetests.py\n",
      "# -*- coding: ascii -*-\n",
      "\"\"\" Exploring unit tests.\n",
      "    Tests for nose for choice.py.\n",
      "    \n",
      "\"\"\"\n",
      "__author__ = \"Mike McFarlane (mike@mikemcfarlane.co.uk)\"\n",
      "__version__ = \"$Revision: 0 $\"\n",
      "__date__ = \"$Date: 11-04-14\"\n",
      "__copyright__ =  \"Copyright (c) Mike McFarlane 2014\"\n",
      "__license__ = \"TBC\"\n",
      "\n",
      "import choice\n",
      "\n",
      "def test_range():\n",
      "    assert choice.choice2([1]) >= 0\n",
      "    \n",
      "def test_bad_range():\n",
      "    assert choice.choice2([2]) >= 0\n",
      "    \n",
      "def test_large_range():\n",
      "    assert choice.choice2([0.1, 0.1, 0.2, 0.2, 0.2, 0.1, 0.09, 0.01]) >= 0\n",
      "    \n",
      "def test_large_bad_range():\n",
      "    assert choice.choice2([0.1, 0.1, 0.2, 0.2, 0.2, 0.1, 0.09, 0.1]) >= 0\n",
      "\t\t\t\t\t\t\t\t\t\t"
     ],
     "language": "python",
     "metadata": {},
     "outputs": [
      {
       "output_type": "stream",
       "stream": "stdout",
       "text": [
        "Overwriting choicetest_nosetests.py\n"
       ]
      }
     ],
     "prompt_number": 222
    },
    {
     "cell_type": "code",
     "collapsed": false,
     "input": [
      "%%file choicetest_unittest.py\n",
      "# -*- coding: ascii -*-\n",
      "\"\"\" Exploring unit tests.\n",
      "    Unit tests for unittest for choice.py. \n",
      "\n",
      "\"\"\"\n",
      "__author__ = \"Mike McFarlane (mike@mikemcfarlane.co.uk)\"\n",
      "__version__ = \"$Revision: 0 $\"\n",
      "__date__ = \"$Date: 11-04-14\"\n",
      "__copyright__ =  \"Copyright (c) Mike McFarlane 2014\"\n",
      "__license__ = \"TBC\"\n",
      "\n",
      "import choice\n",
      "import unittest\n",
      "\n",
      "class RangeTests(unittest.TestCase):\n",
      "    def test_range(self):\n",
      "        a = choice.choice2([1])\n",
      "        b = 0\n",
      "        self.assertGreaterEqual(a, b)\n",
      "        \n",
      "    def test_bad_range(self):\n",
      "        a = choice.choice2([2])\n",
      "        b = 0\n",
      "        self.assertGreaterEqual(a, b)\n",
      "        \n",
      "    def test_large_range(self):\n",
      "        a = choice.choice2([0.1, 0.1, 0.2, 0.2, 0.2, 0.1, 0.09, 0.01])\n",
      "        b = 0\n",
      "        self.assertGreaterEqual(a, b)\n",
      "    \n",
      "    def test_large_bad_range(self):      \n",
      "        a = choice.choice2([0.1, 0.1, 0.2, 0.2, 0.2, 0.1, 0.09, 0.1])\n",
      "        b = 0\n",
      "        self.assertGreaterEqual(a, b)\n",
      "    \n",
      "\n",
      "if __name__ == \"__main__\":\n",
      "    unittest.main()"
     ],
     "language": "python",
     "metadata": {},
     "outputs": [
      {
       "output_type": "stream",
       "stream": "stdout",
       "text": [
        "Overwriting choicetest_unittest.py\n"
       ]
      }
     ],
     "prompt_number": 223
    },
    {
     "cell_type": "code",
     "collapsed": false,
     "input": [
      "!ls"
     ],
     "language": "python",
     "metadata": {},
     "outputs": [
      {
       "output_type": "stream",
       "stream": "stdout",
       "text": [
        "Unit_test_examples.ipynb choice.pyc               choicetest_nosetests.pyc custom_exceptions.py\r\n",
        "choice.py                choicetest_nosetests.py  choicetest_unittest.py   custom_exceptions.pyc\r\n"
       ]
      }
     ],
     "prompt_number": 224
    },
    {
     "cell_type": "code",
     "collapsed": false,
     "input": [
      "import sys\n",
      "if 'choice' in sys.modules: \n",
      "    print \"Module present, will delete and import.\"\n",
      "    del(sys.modules['choice'])\n",
      "import choice\n",
      "\n",
      "print choice.__version__\n",
      "\n",
      "print \"1: \", choice.choice2([1])\n",
      "print \"2: \", choice.choice2([2])\n",
      "print \"3: \", choice.choice2([0.1, 0.1, 0.2, 0.2, 0.2, 0.1, 0.09, 0.01])\n",
      "print \"4: \", choice.choice2([0.1, 0.1, 0.2, 0.2, 0.2, 0.1, 0.09, 0.1])"
     ],
     "language": "python",
     "metadata": {},
     "outputs": [
      {
       "ename": "MatrixError",
       "evalue": "Not a valid array",
       "output_type": "pyerr",
       "traceback": [
        "\u001b[0;31m---------------------------------------------------------------------------\u001b[0m\n\u001b[0;31mMatrixError\u001b[0m                               Traceback (most recent call last)",
        "\u001b[0;32m<ipython-input-225-c786bd10754d>\u001b[0m in \u001b[0;36m<module>\u001b[0;34m()\u001b[0m\n\u001b[1;32m      8\u001b[0m \u001b[0;34m\u001b[0m\u001b[0m\n\u001b[1;32m      9\u001b[0m \u001b[0;32mprint\u001b[0m \u001b[0;34m\"1: \"\u001b[0m\u001b[0;34m,\u001b[0m \u001b[0mchoice\u001b[0m\u001b[0;34m.\u001b[0m\u001b[0mchoice2\u001b[0m\u001b[0;34m(\u001b[0m\u001b[0;34m[\u001b[0m\u001b[0;36m1\u001b[0m\u001b[0;34m]\u001b[0m\u001b[0;34m)\u001b[0m\u001b[0;34m\u001b[0m\u001b[0m\n\u001b[0;32m---> 10\u001b[0;31m \u001b[0;32mprint\u001b[0m \u001b[0;34m\"2: \"\u001b[0m\u001b[0;34m,\u001b[0m \u001b[0mchoice\u001b[0m\u001b[0;34m.\u001b[0m\u001b[0mchoice2\u001b[0m\u001b[0;34m(\u001b[0m\u001b[0;34m[\u001b[0m\u001b[0;36m2\u001b[0m\u001b[0;34m]\u001b[0m\u001b[0;34m)\u001b[0m\u001b[0;34m\u001b[0m\u001b[0m\n\u001b[0m\u001b[1;32m     11\u001b[0m \u001b[0;32mprint\u001b[0m \u001b[0;34m\"3: \"\u001b[0m\u001b[0;34m,\u001b[0m \u001b[0mchoice\u001b[0m\u001b[0;34m.\u001b[0m\u001b[0mchoice2\u001b[0m\u001b[0;34m(\u001b[0m\u001b[0;34m[\u001b[0m\u001b[0;36m0.1\u001b[0m\u001b[0;34m,\u001b[0m \u001b[0;36m0.1\u001b[0m\u001b[0;34m,\u001b[0m \u001b[0;36m0.2\u001b[0m\u001b[0;34m,\u001b[0m \u001b[0;36m0.2\u001b[0m\u001b[0;34m,\u001b[0m \u001b[0;36m0.2\u001b[0m\u001b[0;34m,\u001b[0m \u001b[0;36m0.1\u001b[0m\u001b[0;34m,\u001b[0m \u001b[0;36m0.09\u001b[0m\u001b[0;34m,\u001b[0m \u001b[0;36m0.01\u001b[0m\u001b[0;34m]\u001b[0m\u001b[0;34m)\u001b[0m\u001b[0;34m\u001b[0m\u001b[0m\n\u001b[1;32m     12\u001b[0m \u001b[0;32mprint\u001b[0m \u001b[0;34m\"4: \"\u001b[0m\u001b[0;34m,\u001b[0m \u001b[0mchoice\u001b[0m\u001b[0;34m.\u001b[0m\u001b[0mchoice2\u001b[0m\u001b[0;34m(\u001b[0m\u001b[0;34m[\u001b[0m\u001b[0;36m0.1\u001b[0m\u001b[0;34m,\u001b[0m \u001b[0;36m0.1\u001b[0m\u001b[0;34m,\u001b[0m \u001b[0;36m0.2\u001b[0m\u001b[0;34m,\u001b[0m \u001b[0;36m0.2\u001b[0m\u001b[0;34m,\u001b[0m \u001b[0;36m0.2\u001b[0m\u001b[0;34m,\u001b[0m \u001b[0;36m0.1\u001b[0m\u001b[0;34m,\u001b[0m \u001b[0;36m0.09\u001b[0m\u001b[0;34m,\u001b[0m \u001b[0;36m0.1\u001b[0m\u001b[0;34m]\u001b[0m\u001b[0;34m)\u001b[0m\u001b[0;34m\u001b[0m\u001b[0m\n",
        "\u001b[0;32m/Users/mikemcfarlane/Dropbox/Code/Repositories/NAO/TickleMeNAO/Idea_Development/nose_test_example/choice.py\u001b[0m in \u001b[0;36mchoice2\u001b[0;34m(inArray)\u001b[0m\n\u001b[1;32m     23\u001b[0m     \u001b[0;32mif\u001b[0m \u001b[0;32mnot\u001b[0m \u001b[0mabs\u001b[0m\u001b[0;34m(\u001b[0m\u001b[0msumVal\u001b[0m \u001b[0;34m-\u001b[0m \u001b[0;36m1.0\u001b[0m\u001b[0;34m)\u001b[0m \u001b[0;34m<\u001b[0m \u001b[0;36m1e-10\u001b[0m\u001b[0;34m:\u001b[0m\u001b[0;34m\u001b[0m\u001b[0m\n\u001b[1;32m     24\u001b[0m         \u001b[0;31m#print \"not a P array\"\u001b[0m\u001b[0;34m\u001b[0m\u001b[0;34m\u001b[0m\u001b[0m\n\u001b[0;32m---> 25\u001b[0;31m         \u001b[0;32mraise\u001b[0m \u001b[0mce\u001b[0m\u001b[0;34m.\u001b[0m\u001b[0mMatrixError\u001b[0m\u001b[0;34m(\u001b[0m\u001b[0;34m\"Not a valid array\"\u001b[0m\u001b[0;34m)\u001b[0m\u001b[0;34m\u001b[0m\u001b[0m\n\u001b[0m\u001b[1;32m     26\u001b[0m     \u001b[0;32melse\u001b[0m\u001b[0;34m:\u001b[0m\u001b[0;34m\u001b[0m\u001b[0m\n\u001b[1;32m     27\u001b[0m         \u001b[0;32mfor\u001b[0m \u001b[0mcount\u001b[0m\u001b[0;34m,\u001b[0m \u001b[0mi\u001b[0m \u001b[0;32min\u001b[0m \u001b[0menumerate\u001b[0m\u001b[0;34m(\u001b[0m\u001b[0minArray\u001b[0m\u001b[0;34m)\u001b[0m\u001b[0;34m:\u001b[0m\u001b[0;34m\u001b[0m\u001b[0m\n",
        "\u001b[0;31mMatrixError\u001b[0m: Not a valid array"
       ]
      },
      {
       "output_type": "stream",
       "stream": "stdout",
       "text": [
        "Module present, will delete and import.\n",
        "$Revision: 0 $\n",
        "1:  0\n",
        "2: "
       ]
      }
     ],
     "prompt_number": 225
    },
    {
     "cell_type": "code",
     "collapsed": false,
     "input": [
      "!~/Library/Enthought/Canopy_64bit/User/bin/python choice.py"
     ],
     "language": "python",
     "metadata": {},
     "outputs": [
      {
       "output_type": "stream",
       "stream": "stdout",
       "text": [
        "0\r\n"
       ]
      }
     ],
     "prompt_number": 227
    },
    {
     "cell_type": "code",
     "collapsed": false,
     "input": [
      "!~/Library/Enthought/Canopy_64bit/User/bin/nosetests -v choicetest_nosetests.py"
     ],
     "language": "python",
     "metadata": {},
     "outputs": [
      {
       "output_type": "stream",
       "stream": "stdout",
       "text": [
        "choicetest_nosetests.test_range ... ok\r\n",
        "choicetest_nosetests.test_bad_range ... ERROR\r\n",
        "choicetest_nosetests.test_large_range ... ok\r\n",
        "choicetest_nosetests.test_large_bad_range ... ERROR\r\n",
        "\r\n",
        "======================================================================\r\n",
        "ERROR: choicetest_nosetests.test_bad_range\r\n",
        "----------------------------------------------------------------------\r\n",
        "Traceback (most recent call last):\r\n",
        "  File \"/Users/mikemcfarlane/Library/Enthought/Canopy_64bit/User/lib/python2.7/site-packages/nose/case.py\", line 197, in runTest\r\n",
        "    self.test(*self.arg)\r\n",
        "  File \"/Users/mikemcfarlane/Dropbox/Code/Repositories/NAO/TickleMeNAO/Idea_Development/nose_test_example/choicetest_nosetests.py\", line 18, in test_bad_range\r\n",
        "    assert choice.choice2([2]) >= 0\r\n",
        "  File \"/Users/mikemcfarlane/Dropbox/Code/Repositories/NAO/TickleMeNAO/Idea_Development/nose_test_example/choice.py\", line 25, in choice2\r\n",
        "    raise ce.MatrixError(\"Not a valid array\")\r\n",
        "MatrixError: Not a valid array\r\n",
        "\r\n",
        "======================================================================\r\n",
        "ERROR: choicetest_nosetests.test_large_bad_range\r\n",
        "----------------------------------------------------------------------\r\n",
        "Traceback (most recent call last):\r\n",
        "  File \"/Users/mikemcfarlane/Library/Enthought/Canopy_64bit/User/lib/python2.7/site-packages/nose/case.py\", line 197, in runTest\r\n",
        "    self.test(*self.arg)\r\n",
        "  File \"/Users/mikemcfarlane/Dropbox/Code/Repositories/NAO/TickleMeNAO/Idea_Development/nose_test_example/choicetest_nosetests.py\", line 24, in test_large_bad_range\r\n",
        "    assert choice.choice2([0.1, 0.1, 0.2, 0.2, 0.2, 0.1, 0.09, 0.1]) >= 0\r\n",
        "  File \"/Users/mikemcfarlane/Dropbox/Code/Repositories/NAO/TickleMeNAO/Idea_Development/nose_test_example/choice.py\", line 25, in choice2\r\n",
        "    raise ce.MatrixError(\"Not a valid array\")\r\n",
        "MatrixError: Not a valid array\r\n",
        "\r\n",
        "----------------------------------------------------------------------\r\n",
        "Ran 4 tests in 0.002s\r\n",
        "\r\n",
        "FAILED (errors=2)\r\n"
       ]
      }
     ],
     "prompt_number": 228
    },
    {
     "cell_type": "code",
     "collapsed": false,
     "input": [
      "!~/Library/Enthought/Canopy_64bit/User/bin/python choicetest_unittest.py"
     ],
     "language": "python",
     "metadata": {},
     "outputs": [
      {
       "output_type": "stream",
       "stream": "stdout",
       "text": [
        "EE..\r\n",
        "======================================================================\r\n",
        "ERROR: test_bad_range (__main__.RangeTests)\r\n",
        "----------------------------------------------------------------------\r\n",
        "Traceback (most recent call last):\r\n",
        "  File \"choicetest_unittest.py\", line 22, in test_bad_range\r\n",
        "    a = choice.choice2([2])\r\n",
        "  File \"/Users/mikemcfarlane/Dropbox/Code/Repositories/NAO/TickleMeNAO/Idea_Development/nose_test_example/choice.py\", line 25, in choice2\r\n",
        "    raise ce.MatrixError(\"Not a valid array\")\r\n",
        "MatrixError: Not a valid array\r\n",
        "\r\n",
        "======================================================================\r\n",
        "ERROR: test_large_bad_range (__main__.RangeTests)\r\n",
        "----------------------------------------------------------------------\r\n",
        "Traceback (most recent call last):\r\n",
        "  File \"choicetest_unittest.py\", line 32, in test_large_bad_range\r\n",
        "    a = choice.choice2([0.1, 0.1, 0.2, 0.2, 0.2, 0.1, 0.09, 0.1])\r\n",
        "  File \"/Users/mikemcfarlane/Dropbox/Code/Repositories/NAO/TickleMeNAO/Idea_Development/nose_test_example/choice.py\", line 25, in choice2\r\n",
        "    raise ce.MatrixError(\"Not a valid array\")\r\n",
        "MatrixError: Not a valid array\r\n",
        "\r\n",
        "----------------------------------------------------------------------\r\n",
        "Ran 4 tests in 0.001s\r\n",
        "\r\n",
        "FAILED (errors=2)\r\n"
       ]
      }
     ],
     "prompt_number": 229
    },
    {
     "cell_type": "code",
     "collapsed": false,
     "input": [],
     "language": "python",
     "metadata": {},
     "outputs": []
    }
   ],
   "metadata": {}
  }
 ]
}